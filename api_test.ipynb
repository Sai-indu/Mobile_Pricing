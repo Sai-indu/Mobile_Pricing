{
 "cells": [
  {
   "cell_type": "code",
   "execution_count": 5,
   "id": "ed329731-2bc1-42d1-9fa7-1eb80122a78c",
   "metadata": {},
   "outputs": [
    {
     "name": "stdout",
     "output_type": "stream",
     "text": [
      "Status code: 200\n",
      "Response text: {\n",
      "  \"price_range\": 1\n",
      "}\n",
      "\n"
     ]
    }
   ],
   "source": [
    "import requests\n",
    "\n",
    "url = 'http://127.0.0.1:5000/predict'\n",
    "data = {\n",
    "    \"features\": [1131.0,\t1.0,\t0.5,\t1.0,\t11.0,\t0.0,\t49.0,\t0.6,\t101.0,\t5.0,\t18.0,\t658.0,\t878.0,\t1835.0,\t19.0,\t13.0,\t16.0,\t1.0,\t1.0,\t0.0]\n",
    "}\n",
    "\n",
    "response = requests.post(url, json=data)\n",
    "\n",
    "# Add these:\n",
    "print(\"Status code:\", response.status_code)\n",
    "print(\"Response text:\", response.text)"
   ]
  },
  {
   "cell_type": "code",
   "execution_count": null,
   "id": "d9e4e189-6004-4bf4-a4f3-47e6c02f03f9",
   "metadata": {},
   "outputs": [],
   "source": []
  },
  {
   "cell_type": "code",
   "execution_count": null,
   "id": "e4ed9efb-07ad-451b-813a-3b928444c081",
   "metadata": {},
   "outputs": [],
   "source": []
  },
  {
   "cell_type": "code",
   "execution_count": null,
   "id": "b60626df-1064-439a-8d10-41f780a16eeb",
   "metadata": {},
   "outputs": [],
   "source": []
  },
  {
   "cell_type": "code",
   "execution_count": null,
   "id": "9fb792d4-0d3b-43ec-a14d-37d177957749",
   "metadata": {},
   "outputs": [],
   "source": []
  },
  {
   "cell_type": "code",
   "execution_count": null,
   "id": "d0569988-b7df-4fa0-b532-99262bb3abf0",
   "metadata": {},
   "outputs": [],
   "source": []
  },
  {
   "cell_type": "code",
   "execution_count": null,
   "id": "73e2a35a-c001-454e-aba2-f8943cdec593",
   "metadata": {},
   "outputs": [],
   "source": []
  },
  {
   "cell_type": "code",
   "execution_count": null,
   "id": "79739222-b042-47da-9130-bbc851878f5d",
   "metadata": {},
   "outputs": [],
   "source": []
  },
  {
   "cell_type": "code",
   "execution_count": null,
   "id": "3be47dbe-d6cb-4b89-af03-be654d5013e4",
   "metadata": {},
   "outputs": [],
   "source": []
  },
  {
   "cell_type": "code",
   "execution_count": null,
   "id": "a11d11e7-8c52-44f3-ada6-761edf26c711",
   "metadata": {},
   "outputs": [],
   "source": []
  },
  {
   "cell_type": "code",
   "execution_count": null,
   "id": "3cdc77d7-91f9-46ba-8253-788dae5e2c64",
   "metadata": {},
   "outputs": [],
   "source": []
  },
  {
   "cell_type": "code",
   "execution_count": null,
   "id": "5b77e8a0-0086-47d1-b67f-cf478826fbdc",
   "metadata": {},
   "outputs": [],
   "source": []
  },
  {
   "cell_type": "code",
   "execution_count": null,
   "id": "1600ce0d-1576-4dba-86e2-59ca66837ce4",
   "metadata": {},
   "outputs": [],
   "source": []
  },
  {
   "cell_type": "code",
   "execution_count": null,
   "id": "7ca55004-4c46-4dbc-98a1-a1101a1ee7ba",
   "metadata": {},
   "outputs": [],
   "source": []
  }
 ],
 "metadata": {
  "kernelspec": {
   "display_name": "Python [conda env:base] *",
   "language": "python",
   "name": "conda-base-py"
  },
  "language_info": {
   "codemirror_mode": {
    "name": "ipython",
    "version": 3
   },
   "file_extension": ".py",
   "mimetype": "text/x-python",
   "name": "python",
   "nbconvert_exporter": "python",
   "pygments_lexer": "ipython3",
   "version": "3.13.5"
  }
 },
 "nbformat": 4,
 "nbformat_minor": 5
}
